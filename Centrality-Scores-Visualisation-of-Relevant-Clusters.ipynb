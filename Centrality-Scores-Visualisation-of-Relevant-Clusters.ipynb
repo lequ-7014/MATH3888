{
 "cells": [
  {
   "cell_type": "code",
   "execution_count": 22,
   "id": "a16ac8f7",
   "metadata": {},
   "outputs": [],
   "source": [
    "import networkx as nx\n",
    "\n",
    "import numpy as np\n",
    "import pandas as pd\n",
    "import csv\n",
    "\n",
    "import pyvis.network"
   ]
  },
  {
   "cell_type": "markdown",
   "id": "87c7d956",
   "metadata": {},
   "source": [
    "## Read in Edgelist"
   ]
  },
  {
   "cell_type": "code",
   "execution_count": 2,
   "id": "c7b1495c",
   "metadata": {},
   "outputs": [],
   "source": [
    "yeast_file = \"yeast_network.txt\"\n",
    "\n",
    "G_exp = nx.read_edgelist(yeast_file,comments=\"#\",nodetype=str)"
   ]
  },
  {
   "cell_type": "markdown",
   "id": "ec1b3dfb",
   "metadata": {},
   "source": [
    "## Read in CSV"
   ]
  },
  {
   "cell_type": "code",
   "execution_count": 3,
   "id": "6ffe7138",
   "metadata": {},
   "outputs": [],
   "source": [
    "clusters = []\n",
    "csv_reader = csv.reader(open(\"dpclus_complexes.csv\"))\n",
    "for cluster in csv_reader:\n",
    "    clusters.append(cluster)"
   ]
  },
  {
   "cell_type": "code",
   "execution_count": 4,
   "id": "8a6e2951",
   "metadata": {},
   "outputs": [],
   "source": [
    "ire1 = \"YHR079C\"\n",
    "kar2 = \"YJL034W\"\n",
    "yos9 = \"YDR057W\"\n",
    "hac1 = \"YFL031W\""
   ]
  },
  {
   "cell_type": "markdown",
   "id": "348390a7",
   "metadata": {},
   "source": [
    "## Create Cluster Graph"
   ]
  },
  {
   "cell_type": "code",
   "execution_count": 5,
   "id": "ecd0f910",
   "metadata": {},
   "outputs": [],
   "source": [
    "def cluster_weight(cluster1, cluster2, G):\n",
    "    # Number of connected pairs / number of pairs in total\n",
    "    total_num = len(cluster1) * len(cluster2)\n",
    "    connected_num = 0.0\n",
    "    for node1 in cluster1:\n",
    "        for node2 in cluster2:\n",
    "            if (node1, node2) in G.edges:\n",
    "                connected_num += 1\n",
    "    return connected_num / total_num"
   ]
  },
  {
   "cell_type": "code",
   "execution_count": 6,
   "id": "03b2e1c6",
   "metadata": {},
   "outputs": [],
   "source": [
    "cluster_graph = nx.Graph()"
   ]
  },
  {
   "cell_type": "code",
   "execution_count": 7,
   "id": "01b51806",
   "metadata": {},
   "outputs": [],
   "source": [
    "cluster_weighted_edges = []\n",
    "\n",
    "# Assume clusters are sorted\n",
    "for i in range(len(clusters)):\n",
    "    for j in range(i+1, len(clusters)):\n",
    "        cluster_weighted_edges.append((i, j, cluster_weight(clusters[i], clusters[j], G_exp)))"
   ]
  },
  {
   "cell_type": "code",
   "execution_count": 8,
   "id": "8db25cc1",
   "metadata": {},
   "outputs": [],
   "source": [
    "cluster_graph.add_weighted_edges_from(cluster_weighted_edges)"
   ]
  },
  {
   "cell_type": "markdown",
   "id": "71e705a8",
   "metadata": {},
   "source": [
    "## Find IRE1 Cluster"
   ]
  },
  {
   "cell_type": "code",
   "execution_count": 32,
   "id": "d6ed90f6",
   "metadata": {},
   "outputs": [
    {
     "name": "stdout",
     "output_type": "stream",
     "text": [
      "IRE1 Cluster: 73\n",
      "[70, 73, 67, 81, 164]\n"
     ]
    }
   ],
   "source": [
    "ire_clusters = []\n",
    "\n",
    "for i in range(len(clusters)):\n",
    "    if ire1 in clusters[i]:\n",
    "        ire_clusters.append(i)\n",
    "\n",
    "ire_weights = []\n",
    "ire_cluster = ire_clusters[0]\n",
    "print(\"IRE1 Cluster:\", ire_clusters[0])\n",
    "\n",
    "for i in range(len(clusters)):\n",
    "    if i == ire_cluster:\n",
    "        continue\n",
    "    else:\n",
    "        ire_weight = cluster_graph[i][ire_cluster]['weight']\n",
    "        ire_weights.append((i, ire_weight))\n",
    "        \n",
    "ire_weights.sort(key=lambda x: x[1], reverse=True)\n",
    "top_5_ire_indexes = [tup[0] for tup in ire_weights[:5]]\n",
    "top_5_ire_clusters = [clusters[i] for i in top_5_ire_indexes]\n",
    "print(top_5_hac_indexes)"
   ]
  },
  {
   "cell_type": "markdown",
   "id": "f8630acd",
   "metadata": {},
   "source": [
    "## HAC1 Clusters"
   ]
  },
  {
   "cell_type": "code",
   "execution_count": 33,
   "id": "050e216f",
   "metadata": {},
   "outputs": [
    {
     "name": "stdout",
     "output_type": "stream",
     "text": [
      "HAC1 Cluster: 26\n",
      "[70, 73, 67, 81, 164]\n"
     ]
    }
   ],
   "source": [
    "hac_clusters = []\n",
    "\n",
    "for i in range(len(clusters)):\n",
    "    if hac1 in clusters[i]:\n",
    "        hac_clusters.append(i)\n",
    "        \n",
    "hac_cluster = hac_clusters[0]\n",
    "print(\"HAC1 Cluster:\", hac_cluster)\n",
    "\n",
    "hac_weights = []\n",
    "\n",
    "for i in range(len(clusters)):\n",
    "    if i == hac_cluster:\n",
    "        continue\n",
    "    else:\n",
    "        hac_weight = cluster_graph[i][hac_cluster]['weight']\n",
    "        hac_weights.append((i, hac_weight))\n",
    "        \n",
    "hac_weights.sort(key=lambda x: x[1], reverse=True)\n",
    "\n",
    "top_5_hac_indexes = [tup[0] for tup in hac_weights[:5]]\n",
    "print(top_5_hac_indexes)"
   ]
  },
  {
   "cell_type": "markdown",
   "id": "5be9f71f",
   "metadata": {},
   "source": [
    "## KAR2 Clusters"
   ]
  },
  {
   "cell_type": "code",
   "execution_count": 34,
   "id": "5bf222b1",
   "metadata": {},
   "outputs": [
    {
     "name": "stdout",
     "output_type": "stream",
     "text": [
      "KAR2 Cluster: 26\n",
      "[70, 73, 67, 81, 164]\n"
     ]
    }
   ],
   "source": [
    "kar_clusters = []\n",
    "\n",
    "for i in range(len(clusters)):\n",
    "    if kar2 in clusters[i]:\n",
    "        kar_clusters.append(i)\n",
    "\n",
    "kar_cluster = hac_clusters[0]\n",
    "print(\"KAR2 Cluster:\", kar_cluster)\n",
    "kar_weights = []\n",
    "\n",
    "for i in range(len(clusters)):\n",
    "    if i == kar_cluster:\n",
    "        continue\n",
    "    else:\n",
    "        kar_weight = cluster_graph[i][kar_cluster]['weight']\n",
    "        kar_weights.append((i, kar_weight))\n",
    "        \n",
    "kar_weights.sort(key=lambda x: x[1], reverse=True)\n",
    "\n",
    "top_5_kar_indexes = [tup[0] for tup in kar_weights[:5]]\n",
    "print(top_5_kar_indexes)\n",
    "top_5_kar_clusters = [clusters[i] for i in top_5_kar_indexes]"
   ]
  },
  {
   "cell_type": "code",
   "execution_count": 35,
   "id": "5e59a97e",
   "metadata": {},
   "outputs": [
    {
     "name": "stdout",
     "output_type": "stream",
     "text": [
      "[67, 164, 70, 73, 81, 26, 61]\n"
     ]
    }
   ],
   "source": [
    "top_5_overall = list(set(top_5_ire_indexes + top_5_hac_indexes + top_5_kar_indexes))\n",
    "print(top_5_overall)"
   ]
  },
  {
   "cell_type": "code",
   "execution_count": 37,
   "id": "ebaff779",
   "metadata": {},
   "outputs": [
    {
     "name": "stdout",
     "output_type": "stream",
     "text": [
      "YHR030C,YDL095W,YBR015C,YAL023C,YJL062W,YGL027C,YGR166W,YBR229C,YML019W,YCR017C\n"
     ]
    }
   ],
   "source": [
    "# Closest cluster to both relevant clusters\n",
    "print(\",\".join(clusters[70]))"
   ]
  },
  {
   "cell_type": "markdown",
   "id": "6847dc00",
   "metadata": {},
   "source": [
    "## Draw Cluster Graph"
   ]
  },
  {
   "cell_type": "code",
   "execution_count": 38,
   "id": "e636ea61",
   "metadata": {},
   "outputs": [
    {
     "name": "stdout",
     "output_type": "stream",
     "text": [
      "Warning: When  cdn_resources is 'local' jupyter notebook has issues displaying graphics on chrome/safari. Use cdn_resources='in_line' or cdn_resources='remote' if you have issues viewing graphics in a notebook.\n",
      "cluster.html\n"
     ]
    },
    {
     "data": {
      "text/html": [
       "\n",
       "        <iframe\n",
       "            width=\"100%\"\n",
       "            height=\"600px\"\n",
       "            src=\"cluster.html\"\n",
       "            frameborder=\"0\"\n",
       "            allowfullscreen\n",
       "            \n",
       "        ></iframe>\n",
       "        "
      ],
      "text/plain": [
       "<IPython.lib.display.IFrame at 0x11d71ee10>"
      ]
     },
     "execution_count": 38,
     "metadata": {},
     "output_type": "execute_result"
    }
   ],
   "source": [
    "cluster_network = pyvis.network.Network(notebook = True, bgcolor=\"#222222\", font_color=\"white\")\n",
    "\n",
    "# Set up nodes and edges\n",
    "\n",
    "cluster_network.inherit_edge_colors(False)\n",
    "\n",
    "for node in top_5_overall:\n",
    "    cluster_network.add_node(node, label=str(node))\n",
    "    if (node == 73):\n",
    "        cluster_network.get_node(73)['label'] = \"IRE1\"\n",
    "    if (node == 26):\n",
    "        cluster_network.get_node(26)['label'] = \"HAC1/KAR2\"\n",
    "    if (node == 70):\n",
    "        cluster_network.get_node(70)['label'] = \"Nearest cluster\"\n",
    "\n",
    "# Add edges\n",
    "for i in range(len(top_5_overall)):\n",
    "    for j in range(i):\n",
    "        n1 = top_5_overall[i]\n",
    "        n2 = top_5_overall[j]\n",
    "        cluster_network.add_edge(top_5_overall[i], top_5_overall[j], value=cluster_graph[n1][n2]['weight'], title = str(round(cluster_graph[n1][n2]['weight'], 2)), color='#9EC3F7')\n",
    "\n",
    "\n",
    "# Highlight specific nodes\n",
    "\n",
    "cluster_network.get_node(70)['color'] = \"#07f507\" # Desired cluster\n",
    "\n",
    "cluster_network.get_node(73)['color'] = \"#e33a02\" # IRE1\n",
    "cluster_network.get_node(26)['color'] = \"#f2f25c\" # HAC1 + KAR2\n",
    "\n",
    "# Physics parameters\n",
    "cluster_network.barnes_hut(gravity = -4000)\n",
    "cluster_network.show(\"cluster.html\", local=False, notebook=True)\n"
   ]
  },
  {
   "cell_type": "code",
   "execution_count": null,
   "id": "a633c657",
   "metadata": {},
   "outputs": [],
   "source": []
  }
 ],
 "metadata": {
  "kernelspec": {
   "display_name": "Python 3 (ipykernel)",
   "language": "python",
   "name": "python3"
  },
  "language_info": {
   "codemirror_mode": {
    "name": "ipython",
    "version": 3
   },
   "file_extension": ".py",
   "mimetype": "text/x-python",
   "name": "python",
   "nbconvert_exporter": "python",
   "pygments_lexer": "ipython3",
   "version": "3.11.4"
  }
 },
 "nbformat": 4,
 "nbformat_minor": 5
}
