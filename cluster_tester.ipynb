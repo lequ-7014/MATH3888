{
 "cells": [
  {
   "cell_type": "code",
   "execution_count": 7,
   "id": "2aa95415",
   "metadata": {},
   "outputs": [],
   "source": [
    "import networkx as nx\n",
    "from networkx.algorithms import community\n",
    "from networkx.algorithms.community import greedy_modularity_communities\n",
    "from networkx.algorithms.community import k_clique_communities\n",
    "\n",
    "import matplotlib.pyplot as plt\n",
    "\n",
    "from community import community_louvain\n",
    "\n",
    "import markov_clustering as mc\n",
    "\n",
    "import numpy as np\n",
    "import scipy as sp\n",
    "import pandas as pd\n",
    "\n",
    "from protclus import MCODE\n",
    "from protclus import COACH\n",
    "from protclus import IPCA\n",
    "from protclus import DPCLUS\n",
    "\n",
    "import csv\n",
    "\n",
    "\n",
    "yeast_file = \"yeast_network.txt\""
   ]
  },
  {
   "cell_type": "markdown",
   "id": "62e6c13f",
   "metadata": {},
   "source": [
    "## Helper Functions"
   ]
  },
  {
   "cell_type": "code",
   "execution_count": 8,
   "id": "f274255b",
   "metadata": {},
   "outputs": [],
   "source": [
    "def get_cluster(clusters):\n",
    "    predicted_complexes = []\n",
    "\n",
    "    for cluster in clusters:\n",
    "        ls = set()\n",
    "        for node in cluster:\n",
    "            ls.add(node)\n",
    "        predicted_complexes.append(ls)\n",
    "\n",
    "    predicted_complexes.sort(key = len)\n",
    "    predicted_complexes.reverse()\n",
    "    \n",
    "    return predicted_complexes\n",
    "    "
   ]
  },
  {
   "cell_type": "code",
   "execution_count": 9,
   "id": "53f4067e",
   "metadata": {},
   "outputs": [],
   "source": [
    "def get_clusterfile(cluster_file):\n",
    "\n",
    "    predicted_complexes = []\n",
    "\n",
    "    counter = 0\n",
    "    with open(cluster_file) as f:\n",
    "        for line in f:\n",
    "            ls = []\n",
    "            cluster = line.split()\n",
    "            for node in cluster:\n",
    "                counter += 1\n",
    "                ls.append(node)\n",
    "            predicted_complexes.append(ls)\n",
    "\n",
    "\n",
    "    predicted_complexes.sort(key = len)\n",
    "    predicted_complexes.reverse()\n",
    "    return predicted_complexes"
   ]
  },
  {
   "cell_type": "code",
   "execution_count": 10,
   "id": "aad0ff67",
   "metadata": {},
   "outputs": [],
   "source": [
    "def cluster_filter(clusters, min_length):\n",
    "    filtered_clusters = []\n",
    "    for cluster in clusters:\n",
    "        if len(cluster) >= min_length:\n",
    "            filtered_clusters.append(cluster)\n",
    "            \n",
    "    return filtered_clusters"
   ]
  },
  {
   "cell_type": "code",
   "execution_count": 11,
   "id": "263b597a",
   "metadata": {},
   "outputs": [],
   "source": [
    "def get_cluster_by_indices(clusters, G):\n",
    "    node_arr = list(G.nodes)\n",
    "    predicted_complexes = []\n",
    "\n",
    "    for cluster in clusters:\n",
    "        ls = set()\n",
    "        for i in cluster:\n",
    "            ls.add(node_arr[i])\n",
    "        if len(ls) > 1:\n",
    "            predicted_complexes.append(ls)\n",
    "\n",
    "    predicted_complexes.sort(key = len)\n",
    "    predicted_complexes.reverse()\n",
    "    \n",
    "    return predicted_complexes"
   ]
  },
  {
   "cell_type": "code",
   "execution_count": 12,
   "id": "2839ec54",
   "metadata": {},
   "outputs": [],
   "source": [
    "def gs_list(test_file):\n",
    "    reference_complexes = []\n",
    "\n",
    "    with open(test_file) as f:\n",
    "        for line in f:\n",
    "            reference_complexes.append(line.split())\n",
    "\n",
    "\n",
    "    reference_complexes.sort(key = len)\n",
    "    reference_complexes.reverse()\n",
    "    \n",
    "    return reference_complexes"
   ]
  },
  {
   "cell_type": "markdown",
   "id": "b018ca23",
   "metadata": {},
   "source": [
    "## Metric Evaluation Functions"
   ]
  },
  {
   "cell_type": "code",
   "execution_count": 13,
   "id": "ca35ae59",
   "metadata": {},
   "outputs": [],
   "source": [
    "# Calculates Recall\n",
    "def Recall(predicted_clusters, reference_clusters, t):\n",
    "\n",
    "    correct = 0\n",
    "    counter = 0\n",
    "\n",
    "    for reference in reference_clusters:\n",
    "        counter += 1\n",
    "        for cluster in predicted_clusters:\n",
    "            intersection = len(set(cluster) & set(reference))\n",
    "            if intersection/(len(set(cluster))+len(set(reference))) > t:\n",
    "                correct += 1\n",
    "                break\n",
    "    \n",
    "    return correct/counter\n",
    "    "
   ]
  },
  {
   "cell_type": "code",
   "execution_count": 14,
   "id": "a35ed809",
   "metadata": {},
   "outputs": [],
   "source": [
    "# Calculates Precision\n",
    "def Precision(predicted_clusters, reference_clusters, t):\n",
    "\n",
    "    correct = 0\n",
    "    counter = 0\n",
    "\n",
    "    for cluster in predicted_clusters:\n",
    "        counter += 1\n",
    "        for reference in reference_clusters:\n",
    "            intersection = len(set(cluster) & set(reference))\n",
    "            if intersection/(len(set(cluster))+len(set(reference))) > t:\n",
    "                correct += 1\n",
    "                break\n",
    "\n",
    "\n",
    "\n",
    "    return correct/counter"
   ]
  },
  {
   "cell_type": "code",
   "execution_count": 15,
   "id": "d7cf6373",
   "metadata": {},
   "outputs": [],
   "source": [
    "# Calculates F_measure\n",
    "def F_measure(recall, precision):\n",
    "    \n",
    "    if precision + recall == 0:\n",
    "        return 0\n",
    "    return 2*precision*recall/(precision + recall)"
   ]
  },
  {
   "cell_type": "code",
   "execution_count": 16,
   "id": "058b49a1",
   "metadata": {},
   "outputs": [],
   "source": [
    "# Calculates Positive Predicitive Value\n",
    "def PPV(predicted_clusters, reference_clusters):\n",
    "    \n",
    "    sum = 0\n",
    "    counter = 0\n",
    "\n",
    "    for cluster in predicted_clusters:\n",
    "        max = 0\n",
    "        for reference in reference_clusters:\n",
    "            intersection = len(set(cluster) & set(reference))\n",
    "            counter += intersection\n",
    "            if intersection > max:\n",
    "                max = intersection\n",
    "        sum += max\n",
    "\n",
    "\n",
    "\n",
    "\n",
    "    return sum/counter"
   ]
  },
  {
   "cell_type": "code",
   "execution_count": 17,
   "id": "fcda2807",
   "metadata": {},
   "outputs": [],
   "source": [
    "# Calculates Sensitivity\n",
    "def SN(predicted_clusters, reference_clusters):\n",
    "    \n",
    "    sum = 0\n",
    "    counter = 0\n",
    "\n",
    "    for cluster in reference_clusters:\n",
    "        max = 0\n",
    "        counter += len(cluster)\n",
    "        for reference in predicted_clusters:\n",
    "            intersection = len(set(cluster) & set(reference))\n",
    "            if intersection > max:\n",
    "                max = intersection\n",
    "        sum += max\n",
    "\n",
    "\n",
    "\n",
    "\n",
    "    return sum/counter"
   ]
  },
  {
   "cell_type": "code",
   "execution_count": 18,
   "id": "40e895c0",
   "metadata": {},
   "outputs": [],
   "source": [
    "# Calculates Accuracy\n",
    "def ACC(PPV, SN):\n",
    "    \n",
    "    return (PPV * SN)**0.5"
   ]
  },
  {
   "cell_type": "code",
   "execution_count": 19,
   "id": "012e1074",
   "metadata": {},
   "outputs": [],
   "source": [
    "# Calculates Separation score\n",
    "def SEP(predicted_clusters, reference_clusters):\n",
    "    sum1 = 0\n",
    "    counter1 = 0\n",
    "\n",
    "    for cluster in predicted_clusters:\n",
    "        counter1 += 1\n",
    "        for reference in reference_clusters:\n",
    "            intersection = len(set(cluster) & set(reference))\n",
    "            sum1 += intersection**2/(len(set(cluster))*len(set(reference)))\n",
    "            \n",
    "            \n",
    "    sum2 = 0\n",
    "    counter2 = 0\n",
    "\n",
    "    for cluster in reference_clusters:\n",
    "        counter2 += 1\n",
    "        for reference in predicted_clusters:\n",
    "            intersection = len(set(cluster) & set(reference))\n",
    "            sum2 += intersection**2/(len(set(cluster))*len(set(reference)))\n",
    "            \n",
    "    return (sum1*sum2/(counter1*counter2))**0.5\n",
    "        "
   ]
  },
  {
   "cell_type": "code",
   "execution_count": 20,
   "id": "8bb0f66c",
   "metadata": {},
   "outputs": [],
   "source": [
    "# Return the array of the 7 metric values\n",
    "def get_results(predicted_clusters, reference_clusters):\n",
    "    \n",
    "    recall = Recall(predicted_clusters, reference_clusters, 0.3)\n",
    "    precision = Precision(predicted_clusters, reference_clusters, 0.3)\n",
    "    f_measure = F_measure(recall, precision)\n",
    "    ppv = PPV(predicted_clusters, reference_clusters)\n",
    "    sn = SN(predicted_clusters, reference_clusters)\n",
    "    accuracy = ACC(ppv, sn)\n",
    "    sep = SEP(predicted_clusters, reference_clusters)\n",
    "    \n",
    "    return [recall, precision, f_measure, ppv, sn, accuracy, sep, len(predicted_clusters)]"
   ]
  },
  {
   "cell_type": "code",
   "execution_count": 21,
   "id": "6297a15b",
   "metadata": {},
   "outputs": [],
   "source": [
    "def get_cluster_len(predicted_clusters):\n",
    "    \n",
    "    ls = []\n",
    "    \n",
    "    for cluster in predicted_clusters:\n",
    "        ls.append(len(cluster))\n",
    "        \n",
    "    \n",
    "    return ls"
   ]
  },
  {
   "cell_type": "code",
   "execution_count": 22,
   "id": "3f034a25",
   "metadata": {},
   "outputs": [],
   "source": [
    "# Load the processed network\n",
    "\n",
    "G0 = nx.read_edgelist(yeast_file,comments=\"#\",nodetype=str)"
   ]
  },
  {
   "cell_type": "markdown",
   "id": "bac398af",
   "metadata": {},
   "source": [
    "## MCL"
   ]
  },
  {
   "cell_type": "code",
   "execution_count": 23,
   "id": "73991be1",
   "metadata": {},
   "outputs": [],
   "source": [
    "matrix = nx.adjacency_matrix(G0).todense()\n",
    "result = mc.run_mcl(matrix)\n",
    "clusters = mc.get_clusters(result)\n"
   ]
  },
  {
   "cell_type": "code",
   "execution_count": 24,
   "id": "ea5f7cc9",
   "metadata": {},
   "outputs": [],
   "source": [
    "mcl_predicted_clusters = get_cluster_by_indices(clusters, G0)"
   ]
  },
  {
   "cell_type": "markdown",
   "id": "646e854b",
   "metadata": {},
   "source": [
    "## MCODE"
   ]
  },
  {
   "cell_type": "code",
   "execution_count": null,
   "id": "3eccdbff",
   "metadata": {},
   "outputs": [],
   "source": [
    "c = MCODE(yeast_file)\n",
    "c.cluster()"
   ]
  },
  {
   "cell_type": "code",
   "execution_count": 26,
   "id": "9bb75885",
   "metadata": {},
   "outputs": [],
   "source": [
    "mcode_predicted_clusters = get_cluster(c.clusters)"
   ]
  },
  {
   "cell_type": "markdown",
   "id": "ca261ee7",
   "metadata": {},
   "source": [
    "## DPCLUS"
   ]
  },
  {
   "cell_type": "code",
   "execution_count": 27,
   "id": "e94fb4f4",
   "metadata": {},
   "outputs": [],
   "source": [
    "c = DPCLUS(yeast_file)\n",
    "c.cluster()"
   ]
  },
  {
   "cell_type": "code",
   "execution_count": 28,
   "id": "70554960",
   "metadata": {},
   "outputs": [],
   "source": [
    "dpclus_predicted_clusters = get_cluster(c.clusters)"
   ]
  },
  {
   "cell_type": "markdown",
   "id": "328c15d3",
   "metadata": {},
   "source": [
    "## CoAch"
   ]
  },
  {
   "cell_type": "code",
   "execution_count": null,
   "id": "f4a4de3f",
   "metadata": {},
   "outputs": [],
   "source": [
    "c = COACH(yeast_file)\n",
    "c.cluster()"
   ]
  },
  {
   "cell_type": "code",
   "execution_count": 30,
   "id": "dc99e172",
   "metadata": {},
   "outputs": [],
   "source": [
    "coach_predicted_clusters = get_cluster(c.clusters)"
   ]
  },
  {
   "cell_type": "markdown",
   "id": "6f356600",
   "metadata": {},
   "source": [
    "## EWCA"
   ]
  },
  {
   "cell_type": "code",
   "execution_count": 31,
   "id": "e014e87f",
   "metadata": {},
   "outputs": [],
   "source": [
    "ewca_predicted_clusters = get_clusterfile(\"EWCA_results.txt\")"
   ]
  },
  {
   "cell_type": "markdown",
   "id": "c8a7c27f",
   "metadata": {},
   "source": [
    "# Results"
   ]
  },
  {
   "cell_type": "markdown",
   "id": "1d398f70",
   "metadata": {},
   "source": [
    "## CYC2008 Gold Standard"
   ]
  },
  {
   "cell_type": "code",
   "execution_count": 32,
   "id": "0ae2003f",
   "metadata": {},
   "outputs": [],
   "source": [
    "# Load the gold standard\n",
    "reference_clusters = gs_list('CYC2008.txt')"
   ]
  },
  {
   "cell_type": "code",
   "execution_count": 33,
   "id": "532ec90e",
   "metadata": {},
   "outputs": [],
   "source": [
    "mcl_results = get_results(mcl_predicted_clusters, reference_clusters)\n",
    "mcode_results = get_results(mcode_predicted_clusters, reference_clusters)\n",
    "dpclus_results = get_results(dpclus_predicted_clusters, reference_clusters)\n",
    "coach_results = get_results(coach_predicted_clusters, reference_clusters)\n",
    "ewca_results = get_results(ewca_predicted_clusters, reference_clusters)"
   ]
  },
  {
   "cell_type": "code",
   "execution_count": 34,
   "id": "86597258",
   "metadata": {},
   "outputs": [],
   "source": [
    "model_results = [mcl_results, mcode_results, dpclus_results, coach_results, ewca_results]\n",
    "\n",
    "\n",
    "recall_arr = [result[0] for result in model_results]\n",
    "precision_arr = [result[1] for result in model_results]\n",
    "f_measure_arr = [result[2] for result in model_results]\n",
    "ppv_arr = [result[3] for result in model_results]\n",
    "sn_arr = [result[4] for result in model_results]\n",
    "accuracy_arr = [result[5] for result in model_results]\n",
    "sep_arr = [result[6] for result in model_results]\n",
    "size_arr = [result[7] for result in model_results]"
   ]
  },
  {
   "cell_type": "markdown",
   "id": "a774e3b3",
   "metadata": {},
   "source": [
    "### Recall, Precision and F-measure"
   ]
  },
  {
   "cell_type": "code",
   "execution_count": 35,
   "id": "2dc0b901",
   "metadata": {},
   "outputs": [
    {
     "data": {
      "image/png": "[encoded data removed]",
      "text/plain": [
       "<Figure size 576x432 with 1 Axes>"
      ]
     },
     "metadata": {
      "needs_background": "light"
     },
     "output_type": "display_data"
    }
   ],
   "source": [
    "barWidth = 0.25\n",
    "fig = plt.subplots(figsize =(8, 6)) \n",
    " \n",
    "# Set position of bar on X axis \n",
    "br1 = np.arange(len(recall_arr)) \n",
    "br2 = [x + barWidth for x in br1] \n",
    "br3 = [x + barWidth for x in br2] \n",
    " \n",
    "# Make the plot\n",
    "plt.bar(br1, recall_arr,  width = barWidth, \n",
    "         label ='Recall') \n",
    "plt.bar(br2, precision_arr,  width = barWidth, \n",
    "         label ='Precision') \n",
    "plt.bar(br3, f_measure_arr, width = barWidth, \n",
    "        label ='F-measure') \n",
    " \n",
    "# Adding Xticks \n",
    "plt.ylabel('Score', fontweight ='bold', fontsize = 15) \n",
    "plt.xticks([r + barWidth for r in range(len(recall_arr))], \n",
    "        ['MCL', 'MCODE', 'DPClus', 'CoAch', 'EWCA'])\n",
    " \n",
    "plt.legend()\n",
    "plt.show() "
   ]
  },
  {
   "cell_type": "markdown",
   "id": "94866309",
   "metadata": {},
   "source": [
    "### Positive Predicitive Value"
   ]
  },
  {
   "cell_type": "code",
   "execution_count": 36,
   "id": "71a01640",
   "metadata": {
    "scrolled": false
   },
   "outputs": [
    {
     "data": {
      "image/png": "[encoded data removed]",
      "text/plain": [
       "<Figure size 576x432 with 1 Axes>"
      ]
     },
     "metadata": {
      "needs_background": "light"
     },
     "output_type": "display_data"
    }
   ],
   "source": [
    "barWidth = 0.25\n",
    "fig = plt.subplots(figsize =(8, 6)) \n",
    " \n",
    "# Set position of bar on X axis \n",
    "br1 = np.arange(len(recall_arr)) \n",
    "br2 = [x + barWidth for x in br1] \n",
    "br3 = [x + barWidth for x in br2] \n",
    " \n",
    "# Make the plot\n",
    "plt.bar(br1, ppv_arr, color ='r', width = barWidth, \n",
    "        edgecolor ='grey', label ='Positive Predictive value') \n",
    "plt.bar(br2, sn_arr, color ='g', width = barWidth, \n",
    "        edgecolor ='grey', label ='Sensitivity') \n",
    "plt.bar(br3, accuracy_arr, color ='b', width = barWidth, \n",
    "        edgecolor ='grey', label ='Accuracy') \n",
    " \n",
    "# Adding Xticks \n",
    "plt.ylabel('Score', fontweight ='bold', fontsize = 15) \n",
    "plt.xticks([r + barWidth for r in range(len(recall_arr))], \n",
    "        ['MCL', 'MCODE', 'DPClus', 'CoAch', 'EWCA'])\n",
    " \n",
    "plt.legend()\n",
    "plt.show() "
   ]
  },
  {
   "cell_type": "markdown",
   "id": "3e6677ac",
   "metadata": {},
   "source": [
    "### Separation and number of clusters"
   ]
  },
  {
   "cell_type": "code",
   "execution_count": 37,
   "id": "05b1e963",
   "metadata": {},
   "outputs": [
    {
     "data": {
      "image/png": "[encoded data removed]",
      "text/plain": [
       "<Figure size 576x432 with 2 Axes>"
      ]
     },
     "metadata": {
      "needs_background": "light"
     },
     "output_type": "display_data"
    }
   ],
   "source": [
    "fig, ax1 = plt.subplots(figsize =(8, 6))\n",
    "ax2 = ax1.twinx()\n",
    "\n",
    "model_names = [\"MCL\", \"MCODE\", \"DPClus\", \"CoAch\", \"EWCA\"]\n",
    "\n",
    "\n",
    "X_axis = np.arange(len(model_names))\n",
    "\n",
    "ax1.set_xticks(X_axis, model_names) \n",
    "\n",
    "l1 = ax1.bar(X_axis-0.2, sep_arr,\n",
    "        width = 0.4, color = '#17becf', label = 'Separation')\n",
    "ax1.set_ylabel(\"Separation Score\")\n",
    "\n",
    "l2 = ax2.bar(X_axis+0.2, size_arr,\n",
    "        width = 0.4, color = '#7f7f7f', label = 'Number of clusters')\n",
    "ax2.set_ylabel(\"Number of clusters\")\n",
    "\n",
    "\n",
    "plt.legend([l1,l2], [\"Separation\", \"Number of clusters\"])\n",
    "plt.show()"
   ]
  },
  {
   "cell_type": "code",
   "execution_count": 38,
   "id": "e3fee3cf",
   "metadata": {},
   "outputs": [],
   "source": [
    "mcl_distr = get_cluster_len(mcl_predicted_clusters)\n",
    "mcode_distr = get_cluster_len(mcode_predicted_clusters)\n",
    "dpclus_distr = get_cluster_len(dpclus_predicted_clusters)\n",
    "coach_distr = get_cluster_len(coach_predicted_clusters)\n",
    "ewca_distr = get_cluster_len(ewca_predicted_clusters)"
   ]
  },
  {
   "cell_type": "code",
   "execution_count": 39,
   "id": "c1ce0167",
   "metadata": {
    "scrolled": true
   },
   "outputs": [
    {
     "data": {
      "image/png": "[encoded data removed]",
      "text/plain": [
       "<Figure size 1008x576 with 5 Axes>"
      ]
     },
     "metadata": {
      "needs_background": "light"
     },
     "output_type": "display_data"
    }
   ],
   "source": [
    "plt.figure(figsize = (14,8))\n",
    "\n",
    "ax1 = plt.subplot2grid(shape=(2,6), loc=(0,0), colspan=2)\n",
    "ax2 = plt.subplot2grid((2,6), (0,2), colspan=2)\n",
    "ax3 = plt.subplot2grid((2,6), (0,4), colspan=2)\n",
    "ax4 = plt.subplot2grid((2,6), (1,1), colspan=2)\n",
    "ax5 = plt.subplot2grid((2,6), (1,3), colspan=2)\n",
    "\n",
    "\n",
    "\n",
    "counts, bins = np.histogram(mcl_distr, bins = 10)\n",
    "logbins = np.logspace(np.log10(bins[0]), np.log10(bins[-1]), len(bins))\n",
    "ax1.hist(mcl_distr, bins=logbins)\n",
    "ax1.set_title('MCL')\n",
    "ax1.set_xscale('log')\n",
    "ax1.set_xlabel('Cluster size')\n",
    "ax1.set_ylabel('Count')\n",
    "\n",
    "counts, bins = np.histogram(mcode_distr)\n",
    "logbins = np.logspace(np.log10(bins[0]), np.log10(bins[-1]), len(bins))\n",
    "ax2.hist(mcode_distr, bins=logbins,facecolor ='#ff7f0e')\n",
    "ax2.set_title('MCODE')\n",
    "ax2.set_xscale('log')\n",
    "ax2.set_xlabel('Cluster size')\n",
    "ax2.set_ylabel('Count')\n",
    "\n",
    "counts, bins = np.histogram(dpclus_distr)\n",
    "logbins = np.logspace(np.log10(bins[0]), np.log10(bins[-1]), len(bins))\n",
    "ax3.hist(dpclus_distr, bins=logbins,facecolor ='#2ca02c')\n",
    "ax3.set_title('DPCLUS')\n",
    "ax3.set_xscale('log')\n",
    "ax3.set_xlabel('Cluster size')\n",
    "ax3.set_ylabel('Count')\n",
    "\n",
    "counts, bins = np.histogram(coach_distr)\n",
    "logbins = np.logspace(np.log10(bins[0]), np.log10(bins[-1]), len(bins))\n",
    "ax4.hist(coach_distr, bins=logbins,facecolor ='#d62728')\n",
    "ax4.set_title('COACH')\n",
    "ax4.set_xscale('log')\n",
    "ax4.set_xlabel('Cluster size')\n",
    "ax4.set_ylabel('Count')\n",
    "\n",
    "counts, bins = np.histogram(ewca_distr)\n",
    "logbins = np.logspace(np.log10(bins[0]), np.log10(bins[-1]), len(bins))\n",
    "ax5.hist(ewca_distr, bins=logbins,facecolor ='#9467bd')\n",
    "ax5.set_title('EWCA')\n",
    "ax5.set_xscale('log')\n",
    "ax5.set_xlabel('Cluster size')\n",
    "ax5.set_ylabel('Count')\n",
    "\n",
    "plt.tight_layout()\n",
    "plt.show()"
   ]
  },
  {
   "cell_type": "markdown",
   "id": "1465dfc6",
   "metadata": {},
   "source": [
    "### We filter out clusters that have size less than 5."
   ]
  },
  {
   "cell_type": "code",
   "execution_count": 40,
   "id": "7d781782",
   "metadata": {},
   "outputs": [],
   "source": [
    "mcl_predicted_clusters_filter = cluster_filter(mcl_predicted_clusters, 5)\n",
    "mcode_predicted_clusters_filter = cluster_filter(mcode_predicted_clusters, 5)\n",
    "dpclus_predicted_clusters_filter = cluster_filter(dpclus_predicted_clusters, 5)\n",
    "coach_predicted_clusters_filter = cluster_filter(coach_predicted_clusters, 5)\n",
    "ewca_predicted_clusters_filter = cluster_filter(ewca_predicted_clusters, 5)"
   ]
  },
  {
   "cell_type": "code",
   "execution_count": 41,
   "id": "de016ebe",
   "metadata": {},
   "outputs": [],
   "source": [
    "mcl_results = get_results(mcl_predicted_clusters_filter, reference_clusters)\n",
    "mcode_results = get_results(mcode_predicted_clusters_filter, reference_clusters)\n",
    "dpclus_results = get_results(dpclus_predicted_clusters_filter, reference_clusters)\n",
    "coach_results = get_results(coach_predicted_clusters_filter, reference_clusters)\n",
    "ewca_results = get_results(ewca_predicted_clusters_filter, reference_clusters)"
   ]
  },
  {
   "cell_type": "code",
   "execution_count": 42,
   "id": "1562082b",
   "metadata": {},
   "outputs": [],
   "source": [
    "model_results = [mcl_results, mcode_results, dpclus_results, coach_results, ewca_results]\n",
    "\n",
    "\n",
    "recall_arr = [result[0] for result in model_results]\n",
    "precision_arr = [result[1] for result in model_results]\n",
    "f_measure_arr = [result[2] for result in model_results]\n",
    "ppv_arr = [result[3] for result in model_results]\n",
    "sn_arr = [result[4] for result in model_results]\n",
    "accuracy_arr = [result[5] for result in model_results]\n",
    "sep_arr = [result[6] for result in model_results]\n",
    "size_arr = [result[7] for result in model_results]"
   ]
  },
  {
   "cell_type": "markdown",
   "id": "9e5ab02c",
   "metadata": {},
   "source": [
    "### Recall, Precision and F-measure on filtered clusters"
   ]
  },
  {
   "cell_type": "code",
   "execution_count": 43,
   "id": "65f93aab",
   "metadata": {},
   "outputs": [
    {
     "data": {
      "image/png": "[encoded data removed]",
      "text/plain": [
       "<Figure size 576x432 with 1 Axes>"
      ]
     },
     "metadata": {
      "needs_background": "light"
     },
     "output_type": "display_data"
    }
   ],
   "source": [
    "barWidth = 0.25\n",
    "fig = plt.subplots(figsize =(8, 6)) \n",
    " \n",
    "# Set position of bar on X axis \n",
    "br1 = np.arange(len(recall_arr)) \n",
    "br2 = [x + barWidth for x in br1] \n",
    "br3 = [x + barWidth for x in br2] \n",
    " \n",
    "# Make the plot\n",
    "plt.bar(br1, recall_arr,  width = barWidth,  label ='Recall') \n",
    "plt.bar(br2, precision_arr, width = barWidth,  label ='Precision') \n",
    "plt.bar(br3, f_measure_arr, width = barWidth,  label ='F-measure') \n",
    " \n",
    "# Adding Xticks \n",
    "plt.ylabel('Score', fontweight ='bold', fontsize = 15) \n",
    "plt.xticks([r + barWidth for r in range(len(recall_arr))], \n",
    "        ['MCL', 'MCODE', 'DPClus', 'CoAch', 'EWCA'])\n",
    " \n",
    "plt.legend()\n",
    "plt.show() "
   ]
  },
  {
   "cell_type": "markdown",
   "id": "5e6c3775",
   "metadata": {},
   "source": [
    "### Positive Preditive Value, Sensitivity and Accuracy on filtered clusters"
   ]
  },
  {
   "cell_type": "code",
   "execution_count": 44,
   "id": "0e79c76d",
   "metadata": {},
   "outputs": [
    {
     "data": {
      "image/png": "[encoded data removed]",
      "text/plain": [
       "<Figure size 576x432 with 1 Axes>"
      ]
     },
     "metadata": {
      "needs_background": "light"
     },
     "output_type": "display_data"
    }
   ],
   "source": [
    "barWidth = 0.25\n",
    "fig = plt.subplots(figsize =(8, 6)) \n",
    " \n",
    "# Set position of bar on X axis \n",
    "br1 = np.arange(len(recall_arr)) \n",
    "br2 = [x + barWidth for x in br1] \n",
    "br3 = [x + barWidth for x in br2] \n",
    " \n",
    "# Make the plot\n",
    "plt.bar(br1, ppv_arr, color ='r', width = barWidth, \n",
    "        edgecolor ='grey', label ='Positive Predictive value') \n",
    "plt.bar(br2, sn_arr, color ='g', width = barWidth, \n",
    "        edgecolor ='grey', label ='Sensitivity') \n",
    "plt.bar(br3, accuracy_arr, color ='b', width = barWidth, \n",
    "        edgecolor ='grey', label ='Accuracy') \n",
    " \n",
    "# Adding Xticks \n",
    "plt.ylabel('Score', fontweight ='bold', fontsize = 15) \n",
    "plt.xticks([r + barWidth for r in range(len(recall_arr))], \n",
    "        ['MCL', 'MCODE', 'DPClus', 'CoAch', 'EWCA'])\n",
    " \n",
    "plt.legend()\n",
    "plt.show() "
   ]
  },
  {
   "cell_type": "markdown",
   "id": "315aabaa",
   "metadata": {},
   "source": [
    "### Separation and number of clusters on the filtered clusters"
   ]
  },
  {
   "cell_type": "code",
   "execution_count": 45,
   "id": "4a046b86",
   "metadata": {},
   "outputs": [
    {
     "data": {
      "image/png": "[encoded data removed]",
      "text/plain": [
       "<Figure size 576x432 with 2 Axes>"
      ]
     },
     "metadata": {
      "needs_background": "light"
     },
     "output_type": "display_data"
    }
   ],
   "source": [
    "fig, ax1 = plt.subplots(figsize =(8, 6))\n",
    "ax2 = ax1.twinx()\n",
    "\n",
    "model_names = [\"MCL\", \"MCODE\", \"DPClus\", \"CoAch\", \"EWCA\"]\n",
    "\n",
    "\n",
    "X_axis = np.arange(len(model_names))\n",
    "\n",
    "ax1.set_xticks(X_axis, model_names) \n",
    "\n",
    "l1 = ax1.bar(X_axis-0.2, sep_arr,\n",
    "        width = 0.4, color = '#17becf', label = 'Separation')\n",
    "ax1.set_ylabel(\"Separation Score\")\n",
    "\n",
    "l2 = ax2.bar(X_axis+0.2, size_arr,\n",
    "        width = 0.4, color = '#7f7f7f', label = 'Number of clusters')\n",
    "ax2.set_ylabel(\"Number of clusters\")\n",
    "\n",
    "\n",
    "plt.legend([l1,l2], [\"Separation\", \"Number of clusters\"])\n",
    "plt.show()"
   ]
  },
  {
   "cell_type": "code",
   "execution_count": 46,
   "id": "0d2f2c89",
   "metadata": {},
   "outputs": [],
   "source": [
    "mcl_distr_filter = get_cluster_len(mcl_predicted_clusters_filter)\n",
    "mcode_distr_filter = get_cluster_len(mcode_predicted_clusters_filter)\n",
    "dpclus_distr_filter = get_cluster_len(dpclus_predicted_clusters_filter)\n",
    "coach_distr_filter = get_cluster_len(coach_predicted_clusters_filter)\n",
    "ewca_distr_filter = get_cluster_len(ewca_predicted_clusters_filter)"
   ]
  },
  {
   "cell_type": "code",
   "execution_count": 47,
   "id": "b0f6a869",
   "metadata": {},
   "outputs": [
    {
     "data": {
      "image/png": "[encoded data removed]",
      "text/plain": [
       "<Figure size 1008x576 with 5 Axes>"
      ]
     },
     "metadata": {
      "needs_background": "light"
     },
     "output_type": "display_data"
    }
   ],
   "source": [
    "plt.figure(figsize = (14,8))\n",
    "\n",
    "ax1 = plt.subplot2grid(shape=(2,6), loc=(0,0), colspan=2)\n",
    "ax2 = plt.subplot2grid((2,6), (0,2), colspan=2)\n",
    "ax3 = plt.subplot2grid((2,6), (0,4), colspan=2)\n",
    "ax4 = plt.subplot2grid((2,6), (1,1), colspan=2)\n",
    "ax5 = plt.subplot2grid((2,6), (1,3), colspan=2)\n",
    "\n",
    "\n",
    "\n",
    "counts, bins = np.histogram(mcl_distr_filter, bins = 12)\n",
    "logbins = np.logspace(np.log10(bins[0]), np.log10(bins[-1]), len(bins))\n",
    "ax1.hist(mcl_distr_filter, bins=logbins)\n",
    "ax1.set_title('MCL')\n",
    "ax1.set_xscale('log')\n",
    "ax1.set_xlabel('Cluster size')\n",
    "ax1.set_ylabel('Count')\n",
    "\n",
    "counts, bins = np.histogram(mcode_distr_filter)\n",
    "logbins = np.logspace(np.log10(bins[0]), np.log10(bins[-1]), len(bins))\n",
    "ax2.hist(mcode_distr_filter, bins=logbins,facecolor ='#ff7f0e')\n",
    "ax2.set_title('MCODE')\n",
    "ax2.set_xscale('log')\n",
    "ax2.set_xlabel('Cluster size')\n",
    "ax2.set_ylabel('Count')\n",
    "\n",
    "counts, bins = np.histogram(dpclus_distr_filter)\n",
    "logbins = np.logspace(np.log10(bins[0]), np.log10(bins[-1]), len(bins))\n",
    "ax3.hist(dpclus_distr_filter, bins=logbins,facecolor ='#2ca02c')\n",
    "ax3.set_title('DPCLUS')\n",
    "ax3.set_xscale('log')\n",
    "ax3.set_xlabel('Cluster size')\n",
    "ax3.set_ylabel('Count')\n",
    "\n",
    "counts, bins = np.histogram(coach_distr_filter)\n",
    "logbins = np.logspace(np.log10(bins[0]), np.log10(bins[-1]), len(bins))\n",
    "ax4.hist(coach_distr_filter, bins=logbins,facecolor ='#d62728')\n",
    "ax4.set_title('COACH')\n",
    "ax4.set_xscale('log')\n",
    "ax4.set_xlabel('Cluster size')\n",
    "ax4.set_ylabel('Count')\n",
    "\n",
    "counts, bins = np.histogram(ewca_distr_filter)\n",
    "logbins = np.logspace(np.log10(bins[0]), np.log10(bins[-1]), len(bins))\n",
    "ax5.hist(ewca_distr_filter, bins=logbins,facecolor ='#9467bd')\n",
    "ax5.set_title('EWCA')\n",
    "ax5.set_xscale('log')\n",
    "ax5.set_xlabel('Cluster size')\n",
    "ax5.set_ylabel('Count')\n",
    "\n",
    "plt.tight_layout()\n",
    "plt.show()"
   ]
  }
 ],
 "metadata": {
  "kernelspec": {
   "display_name": "Python 3 (ipykernel)",
   "language": "python",
   "name": "python3"
  },
  "language_info": {
   "codemirror_mode": {
    "name": "ipython",
    "version": 3
   },
   "file_extension": ".py",
   "mimetype": "text/x-python",
   "name": "python",
   "nbconvert_exporter": "python",
   "pygments_lexer": "ipython3",
   "version": "3.9.12"
  }
 },
 "nbformat": 4,
 "nbformat_minor": 5
}
