{
 "cells": [
  {
   "cell_type": "code",
   "execution_count": 1,
   "id": "a16ac8f7",
   "metadata": {},
   "outputs": [],
   "source": [
    "# import required packages\n",
    "\n",
    "import networkx as nx\n",
    "import numpy as np\n",
    "import scipy as sp\n",
    "import pandas as pd\n",
    "\n",
    "import matplotlib.pyplot as plt\n",
    "from pyvis.network import Network\n",
    "net = Network()\n",
    "\n",
    "import gravis as gv\n",
    "import csv"
   ]
  },
  {
   "cell_type": "markdown",
   "id": "87c7d956",
   "metadata": {},
   "source": [
    "## Read in Edgelist"
   ]
  },
  {
   "cell_type": "code",
   "execution_count": 2,
   "id": "c7b1495c",
   "metadata": {},
   "outputs": [],
   "source": [
    "# Read in network edgelist\n",
    "\n",
    "yeast_file = \"yeast_network.txt\"\n",
    "\n",
    "G_exp = nx.read_edgelist(yeast_file,comments=\"#\",nodetype=str)"
   ]
  },
  {
   "cell_type": "markdown",
   "id": "ec1b3dfb",
   "metadata": {},
   "source": [
    "## Read in CSV"
   ]
  },
  {
   "cell_type": "code",
   "execution_count": 3,
   "id": "6ffe7138",
   "metadata": {},
   "outputs": [],
   "source": [
    "clusters = []\n",
    "\n",
    "csv_reader = csv.reader(open(\"dpclus_complexes.csv\"))\n",
    "\n",
    "for cluster in csv_reader:\n",
    "    clusters.append(cluster)\n",
    "cluster_rep = []\n",
    "for cluster in clusters:\n",
    "    cluster_rep.append(cluster[0])"
   ]
  },
  {
   "cell_type": "code",
   "execution_count": 4,
   "id": "41a893df",
   "metadata": {},
   "outputs": [],
   "source": [
    "def find_clusters(clusters, node):\n",
    "    unknown_clusters = []\n",
    "    for cluster in clusters:\n",
    "        if node in cluster:\n",
    "            unknown_clusters.append(cluster)\n",
    "     \n",
    "    return unknown_clusters"
   ]
  },
  {
   "cell_type": "markdown",
   "id": "348390a7",
   "metadata": {},
   "source": [
    "## Create Cluster Graph"
   ]
  },
  {
   "cell_type": "code",
   "execution_count": 5,
   "id": "ecd0f910",
   "metadata": {},
   "outputs": [],
   "source": [
    "# Define edge weights based on formula\n",
    "\n",
    "def cluster_weight(cluster1, cluster2, G):\n",
    "    # Number of connected pairs / number of pairs in total\n",
    "    total_num = len(cluster1) * len(cluster2)\n",
    "    connected_num = 0.0\n",
    "    for node1 in cluster1:\n",
    "        for node2 in cluster2:\n",
    "            if (node1, node2) in G.edges:\n",
    "                connected_num += 1\n",
    "    return connected_num / total_num\n"
   ]
  },
  {
   "cell_type": "code",
   "execution_count": 6,
   "id": "7bc1ae70",
   "metadata": {},
   "outputs": [
    {
     "data": {
      "text/plain": [
       "0.0244173140954495"
      ]
     },
     "execution_count": 6,
     "metadata": {},
     "output_type": "execute_result"
    }
   ],
   "source": [
    "cluster_weight(clusters[0], clusters[3], G_exp)"
   ]
  },
  {
   "cell_type": "code",
   "execution_count": 7,
   "id": "03b2e1c6",
   "metadata": {},
   "outputs": [],
   "source": [
    "cluster_graph = nx.Graph()"
   ]
  },
  {
   "cell_type": "code",
   "execution_count": 8,
   "id": "01b51806",
   "metadata": {},
   "outputs": [],
   "source": [
    "cluster_weighted_edges = []\n",
    "\n",
    "# Assume clusters are sorted\n",
    "for i in range(len(clusters)):\n",
    "    for j in range(i+1, len(clusters)):\n",
    "        cluster_weighted_edges.append((i,j, cluster_weight(clusters[i], clusters[j], G_exp)))"
   ]
  },
  {
   "cell_type": "code",
   "execution_count": 9,
   "id": "f6a29505",
   "metadata": {},
   "outputs": [],
   "source": [
    "self_loops = [entry for entry in cluster_weighted_edges if entry[0] == entry[1]]"
   ]
  },
  {
   "cell_type": "code",
   "execution_count": 10,
   "id": "8db25cc1",
   "metadata": {},
   "outputs": [],
   "source": [
    "cluster_graph.add_weighted_edges_from(cluster_weighted_edges)"
   ]
  },
  {
   "cell_type": "code",
   "execution_count": 11,
   "id": "67e78cc0",
   "metadata": {},
   "outputs": [],
   "source": [
    "node_size = []\n",
    "for i in range(0, len(clusters)):\n",
    "    node_size.append(len(clusters[i]))"
   ]
  },
  {
   "cell_type": "markdown",
   "id": "b97e783c",
   "metadata": {},
   "source": [
    " ## PPI Subgraph PyVis Visualisation"
   ]
  },
  {
   "cell_type": "code",
   "execution_count": 12,
   "id": "0c80128b",
   "metadata": {},
   "outputs": [
    {
     "name": "stdout",
     "output_type": "stream",
     "text": [
      "Warning: When  cdn_resources is 'local' jupyter notebook has issues displaying graphics on chrome/safari. Use cdn_resources='in_line' or cdn_resources='remote' if you have issues viewing graphics in a notebook.\n",
      "PPIsubgraph.html\n"
     ]
    },
    {
     "data": {
      "text/html": [
       "\n",
       "        <iframe\n",
       "            width=\"100%\"\n",
       "            height=\"600px\"\n",
       "            src=\"PPIsubgraph.html\"\n",
       "            frameborder=\"0\"\n",
       "            allowfullscreen\n",
       "            \n",
       "        ></iframe>\n",
       "        "
      ],
      "text/plain": [
       "<IPython.lib.display.IFrame at 0x294c25c50>"
      ]
     },
     "execution_count": 12,
     "metadata": {},
     "output_type": "execute_result"
    }
   ],
   "source": [
    "PPI_subgraph = Network(notebook = True, bgcolor=\"#222222\", font_color=\"white\")\n",
    "\n",
    "# set the physics layout of the network\n",
    "PPI_subgraph.barnes_hut(gravity = -4000, overlap = 1, damping = 0.2)\n",
    "#print(cluster_rep)\n",
    "nodes = []\n",
    "for i in range(0, len(clusters)):\n",
    "    l = [i, node_size[i], clusters[i]]\n",
    "    nodes.append(l)\n",
    "#print(nodes)\n",
    "for n in nodes:\n",
    "    PPI_subgraph.add_node(n[0], size = 2*n[1], title = n[2])\n",
    "    #print(n[0], n[1], n[2])\n",
    "for e in cluster_weighted_edges:\n",
    "                src = e[0]\n",
    "                dst = e[1]\n",
    "                w = round(200*e[2], 0)\n",
    "                #print(src, dst, w)\n",
    "                #PPI_subgraph.add_node(src, src, title=src)\n",
    "                #PPI_subgraph.add_node(dst, dst, title=dst)\n",
    "                if w > 50:\n",
    "                    PPI_subgraph.add_edge(src, dst, value=w, title = w)\n",
    "                    \n",
    "neighbor_map = PPI_subgraph.get_adj_list()\n",
    "for node in [67, 164, 70, 73, 81, 26, 61]:\n",
    "    PPI_subgraph.get_node(node)['color'] = 'Yellow'\n",
    "    PPI_subgraph.get_node(node)['weight'] = 100\n",
    "\n",
    "# add neighbor data to node hover data\n",
    "# for node in PPI_subgraph.nodes:\n",
    "                #node[\"title\"] += \" Neighbors:<br>\" + \"<br>\".join(neighbor_map[node[\"id\"]])\n",
    "                #node[\"value\"] = len(neighbor_map[node[\"id\"]])\n",
    "\n",
    "PPI_subgraph.show(\"PPIsubgraph.html\") # Show PPI Subgraph"
   ]
  }
 ],
 "metadata": {
  "kernelspec": {
   "display_name": "Python 3 (ipykernel)",
   "language": "python",
   "name": "python3"
  },
  "language_info": {
   "codemirror_mode": {
    "name": "ipython",
    "version": 3
   },
   "file_extension": ".py",
   "mimetype": "text/x-python",
   "name": "python",
   "nbconvert_exporter": "python",
   "pygments_lexer": "ipython3",
   "version": "3.11.5"
  }
 },
 "nbformat": 4,
 "nbformat_minor": 5
}
