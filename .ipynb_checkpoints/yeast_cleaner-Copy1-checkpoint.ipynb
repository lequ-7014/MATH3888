{
 "cells": [
  {
   "cell_type": "code",
   "execution_count": 27,
   "id": "1a0583b0",
   "metadata": {},
   "outputs": [],
   "source": [
    "import networkx as nx\n",
    "\n",
    "from networkx.algorithms import community\n",
    "from community import community_louvain\n",
    "\n",
    "import markov_clustering as mc\n",
    "\n",
    "import numpy as np\n",
    "import scipy as sp\n",
    "import pandas as pd\n",
    "\n"
   ]
  },
  {
   "cell_type": "code",
   "execution_count": 57,
   "id": "263e6723",
   "metadata": {},
   "outputs": [
    {
     "data": {
      "text/html": [
       "<div>\n",
       "<style scoped>\n",
       "    .dataframe tbody tr th:only-of-type {\n",
       "        vertical-align: middle;\n",
       "    }\n",
       "\n",
       "    .dataframe tbody tr th {\n",
       "        vertical-align: top;\n",
       "    }\n",
       "\n",
       "    .dataframe thead th {\n",
       "        text-align: right;\n",
       "    }\n",
       "</style>\n",
       "<table border=\"1\" class=\"dataframe\">\n",
       "  <thead>\n",
       "    <tr style=\"text-align: right;\">\n",
       "      <th></th>\n",
       "      <th>protein1</th>\n",
       "      <th>protein2</th>\n",
       "      <th>experiments</th>\n",
       "      <th>experiments_transferred</th>\n",
       "      <th>database</th>\n",
       "      <th>database_transferred</th>\n",
       "      <th>textmining</th>\n",
       "      <th>textmining_transferred</th>\n",
       "    </tr>\n",
       "  </thead>\n",
       "  <tbody>\n",
       "    <tr>\n",
       "      <th>0</th>\n",
       "      <td>4932.Q0010</td>\n",
       "      <td>4932.YMR207C</td>\n",
       "      <td>0</td>\n",
       "      <td>0</td>\n",
       "      <td>0</td>\n",
       "      <td>245</td>\n",
       "      <td>0</td>\n",
       "      <td>99</td>\n",
       "    </tr>\n",
       "    <tr>\n",
       "      <th>1</th>\n",
       "      <td>4932.Q0010</td>\n",
       "      <td>4932.YCR051W</td>\n",
       "      <td>0</td>\n",
       "      <td>180</td>\n",
       "      <td>0</td>\n",
       "      <td>0</td>\n",
       "      <td>0</td>\n",
       "      <td>71</td>\n",
       "    </tr>\n",
       "    <tr>\n",
       "      <th>2</th>\n",
       "      <td>4932.Q0010</td>\n",
       "      <td>4932.YPR002W</td>\n",
       "      <td>0</td>\n",
       "      <td>116</td>\n",
       "      <td>0</td>\n",
       "      <td>0</td>\n",
       "      <td>0</td>\n",
       "      <td>117</td>\n",
       "    </tr>\n",
       "    <tr>\n",
       "      <th>3</th>\n",
       "      <td>4932.Q0010</td>\n",
       "      <td>4932.YGR117C</td>\n",
       "      <td>0</td>\n",
       "      <td>151</td>\n",
       "      <td>0</td>\n",
       "      <td>0</td>\n",
       "      <td>0</td>\n",
       "      <td>48</td>\n",
       "    </tr>\n",
       "    <tr>\n",
       "      <th>4</th>\n",
       "      <td>4932.Q0010</td>\n",
       "      <td>4932.YML056C</td>\n",
       "      <td>0</td>\n",
       "      <td>134</td>\n",
       "      <td>0</td>\n",
       "      <td>0</td>\n",
       "      <td>0</td>\n",
       "      <td>61</td>\n",
       "    </tr>\n",
       "  </tbody>\n",
       "</table>\n",
       "</div>"
      ],
      "text/plain": [
       "     protein1      protein2  experiments  experiments_transferred  database  \\\n",
       "0  4932.Q0010  4932.YMR207C            0                        0         0   \n",
       "1  4932.Q0010  4932.YCR051W            0                      180         0   \n",
       "2  4932.Q0010  4932.YPR002W            0                      116         0   \n",
       "3  4932.Q0010  4932.YGR117C            0                      151         0   \n",
       "4  4932.Q0010  4932.YML056C            0                      134         0   \n",
       "\n",
       "   database_transferred  textmining  textmining_transferred  \n",
       "0                   245           0                      99  \n",
       "1                     0           0                      71  \n",
       "2                     0           0                     117  \n",
       "3                     0           0                      48  \n",
       "4                     0           0                      61  "
      ]
     },
     "execution_count": 57,
     "metadata": {},
     "output_type": "execute_result"
    }
   ],
   "source": [
    "# Load the full yeast dataset as pandas\n",
    "df = pd.read_csv('4932_protein_links_full_v12_0.txt', sep='\\s+')\n",
    "\n",
    "df[[\"protein1\", \"protein2\", \"experiments\", \"experiments_transferred\", \"database\", \"database_transferred\", \"textmining\", \"textmining_transferred\"]].head(5)"
   ]
  },
  {
   "cell_type": "code",
   "execution_count": 29,
   "id": "9196564a",
   "metadata": {},
   "outputs": [],
   "source": [
    "# Method to get edges with scores in each category above the specified threshold\n",
    "def full_yeast_cleaner(filename: str, attributes: list[str], score: list[int]):\n",
    "    \n",
    "    df = pd.read_csv(filename, sep='\\s+')\n",
    "    \n",
    "    selected_df = (df[attributes[0]] >= score[0])\n",
    "    \n",
    "    for i in range(1, len(attributes)):\n",
    "        \n",
    "        selected_df = selected_df & (df[attributes[i]] >= score[i])\n",
    "    \n",
    "    \n",
    "    return df[selected_df]"
   ]
  },
  {
   "cell_type": "code",
   "execution_count": 30,
   "id": "22b3283f",
   "metadata": {},
   "outputs": [],
   "source": [
    "# Get edges with experiments score above or equal to 200\n",
    "\n",
    "attributes = ['experiments']\n",
    "score = [200]\n",
    "\n",
    "\n",
    "df = full_yeast_cleaner('4932_protein_links_full_v12_0.txt', attributes, score)"
   ]
  },
  {
   "cell_type": "code",
   "execution_count": 31,
   "id": "3d035cb9",
   "metadata": {},
   "outputs": [
    {
     "data": {
      "text/html": [
       "<div>\n",
       "<style scoped>\n",
       "    .dataframe tbody tr th:only-of-type {\n",
       "        vertical-align: middle;\n",
       "    }\n",
       "\n",
       "    .dataframe tbody tr th {\n",
       "        vertical-align: top;\n",
       "    }\n",
       "\n",
       "    .dataframe thead th {\n",
       "        text-align: right;\n",
       "    }\n",
       "</style>\n",
       "<table border=\"1\" class=\"dataframe\">\n",
       "  <thead>\n",
       "    <tr style=\"text-align: right;\">\n",
       "      <th></th>\n",
       "      <th>protein1</th>\n",
       "      <th>protein2</th>\n",
       "    </tr>\n",
       "  </thead>\n",
       "  <tbody>\n",
       "    <tr>\n",
       "      <th>1114</th>\n",
       "      <td>Q0045</td>\n",
       "      <td>YNR018W</td>\n",
       "    </tr>\n",
       "    <tr>\n",
       "      <th>1128</th>\n",
       "      <td>Q0045</td>\n",
       "      <td>YEL047C</td>\n",
       "    </tr>\n",
       "  </tbody>\n",
       "</table>\n",
       "</div>"
      ],
      "text/plain": [
       "     protein1 protein2\n",
       "1114    Q0045  YNR018W\n",
       "1128    Q0045  YEL047C"
      ]
     },
     "execution_count": 31,
     "metadata": {},
     "output_type": "execute_result"
    }
   ],
   "source": [
    "# Get the dataframe of the unweighted edges\n",
    "network = df[df.columns[0:2]].copy()\n",
    "\n",
    "# Remove the 4932. prefix\n",
    "network.loc[:,'protein1'] = network['protein1'].str[5:]\n",
    "network.loc[:,'protein2'] = network['protein2'].str[5:]\n",
    "\n",
    "network.head(2)"
   ]
  },
  {
   "cell_type": "code",
   "execution_count": 33,
   "id": "546ccaf0",
   "metadata": {},
   "outputs": [],
   "source": [
    "# Store the edges into a txt file\n",
    "\n",
    "yeast_file = \"yeast_network.txt\"\n",
    "\n",
    "network.to_csv(yeast_file, header = None, index = None, sep = ' ', mode = 'w')"
   ]
  },
  {
   "cell_type": "code",
   "execution_count": 34,
   "id": "1ccf1878",
   "metadata": {},
   "outputs": [
    {
     "name": "stdout",
     "output_type": "stream",
     "text": [
      "True\n"
     ]
    }
   ],
   "source": [
    "# The subgraph is a connected component\n",
    "G0 = nx.read_edgelist(yeast_file,comments=\"#\",nodetype=str)\n",
    "\n",
    "print(nx.is_connected(G0))\n"
   ]
  },
  {
   "cell_type": "code",
   "execution_count": 58,
   "id": "18a7a9ef",
   "metadata": {},
   "outputs": [
    {
     "data": {
      "text/plain": [
       "162725"
      ]
     },
     "execution_count": 58,
     "metadata": {},
     "output_type": "execute_result"
    }
   ],
   "source": [
    "len(G0.edges)"
   ]
  },
  {
   "cell_type": "code",
   "execution_count": 59,
   "id": "3fafdcd9",
   "metadata": {},
   "outputs": [
    {
     "data": {
      "text/plain": [
       "5853"
      ]
     },
     "execution_count": 59,
     "metadata": {},
     "output_type": "execute_result"
    }
   ],
   "source": [
    "len(G0.nodes)"
   ]
  }
 ],
 "metadata": {
  "kernelspec": {
   "display_name": "Python 3 (ipykernel)",
   "language": "python",
   "name": "python3"
  },
  "language_info": {
   "codemirror_mode": {
    "name": "ipython",
    "version": 3
   },
   "file_extension": ".py",
   "mimetype": "text/x-python",
   "name": "python",
   "nbconvert_exporter": "python",
   "pygments_lexer": "ipython3",
   "version": "3.9.12"
  }
 },
 "nbformat": 4,
 "nbformat_minor": 5
}
